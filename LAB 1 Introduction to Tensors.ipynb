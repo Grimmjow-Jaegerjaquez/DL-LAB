{
  "nbformat": 4,
  "nbformat_minor": 0,
  "metadata": {
    "colab": {
      "provenance": []
    },
    "kernelspec": {
      "name": "python3",
      "display_name": "Python 3"
    },
    "language_info": {
      "name": "python"
    }
  },
  "cells": [
    {
      "cell_type": "markdown",
      "source": [
        "# ***Q1***"
      ],
      "metadata": {
        "id": "FXtiMpcr525b"
      }
    },
    {
      "cell_type": "code",
      "source": [
        "import torch\n",
        "\n",
        "# Create a sample tensor\n",
        "tensor = torch.tensor([[1, 2, 3],\n",
        "                       [4, 5, 6]])\n",
        "\n",
        "# Reshape: Change the shape of the tensor\n",
        "reshaped_tensor = tensor.view(3, 2)\n",
        "print(\"Reshaped Tensor:\")\n",
        "print(reshaped_tensor)"
      ],
      "metadata": {
        "colab": {
          "base_uri": "https://localhost:8080/"
        },
        "id": "ul30UkDO54Z4",
        "outputId": "cea97521-1679-4b4b-9772-b9fdd87be704"
      },
      "execution_count": null,
      "outputs": [
        {
          "output_type": "stream",
          "name": "stdout",
          "text": [
            "Reshaped Tensor:\n",
            "tensor([[1, 2],\n",
            "        [3, 4],\n",
            "        [5, 6]])\n"
          ]
        }
      ]
    },
    {
      "cell_type": "code",
      "source": [
        "# View: Another way to change the shape of the tensor\n",
        "viewed_tensor = tensor.view(3, -1)  # -1 means the size is inferred\n",
        "print(\"\\nViewed Tensor:\")\n",
        "print(viewed_tensor)"
      ],
      "metadata": {
        "colab": {
          "base_uri": "https://localhost:8080/"
        },
        "id": "khjb3Ki36wYv",
        "outputId": "52ec8639-1d26-4ff3-d2ae-049a41707f31"
      },
      "execution_count": null,
      "outputs": [
        {
          "output_type": "stream",
          "name": "stdout",
          "text": [
            "\n",
            "Viewed Tensor:\n",
            "tensor([[1, 2],\n",
            "        [3, 4],\n",
            "        [5, 6]])\n"
          ]
        }
      ]
    },
    {
      "cell_type": "code",
      "source": [
        "# Stack: Combine tensors along a new dimension\n",
        "tensor1 = torch.tensor([1, 2, 3])\n",
        "tensor2 = torch.tensor([4, 5, 6])\n",
        "stacked_tensor = torch.stack([tensor1, tensor2])\n",
        "print(\"\\nStacked Tensor:\")\n",
        "print(stacked_tensor)"
      ],
      "metadata": {
        "colab": {
          "base_uri": "https://localhost:8080/"
        },
        "id": "m3K8NlTC7Grw",
        "outputId": "d80e3b97-d67b-45ca-8381-320613a075d3"
      },
      "execution_count": null,
      "outputs": [
        {
          "output_type": "stream",
          "name": "stdout",
          "text": [
            "\n",
            "Stacked Tensor:\n",
            "tensor([[1, 2, 3],\n",
            "        [4, 5, 6]])\n"
          ]
        }
      ]
    },
    {
      "cell_type": "code",
      "source": [
        "# Squeeze: Remove dimensions with size 1\n",
        "tensor_with_dimension = tensor.view(1, 2, 3)\n",
        "squeezed_tensor = tensor_with_dimension.squeeze()\n",
        "print(\"\\nSqueezed Tensor:\")\n",
        "print(squeezed_tensor)"
      ],
      "metadata": {
        "colab": {
          "base_uri": "https://localhost:8080/"
        },
        "id": "MRi_BHSU7Yya",
        "outputId": "aff1dae4-efef-4f0a-b0de-2480e301c40f"
      },
      "execution_count": null,
      "outputs": [
        {
          "output_type": "stream",
          "name": "stdout",
          "text": [
            "\n",
            "Squeezed Tensor:\n",
            "tensor([[1, 2, 3],\n",
            "        [4, 5, 6]])\n"
          ]
        }
      ]
    },
    {
      "cell_type": "code",
      "source": [
        "unsqueezed_tensor = tensor.unsqueeze(dim=0)\n",
        "print(\"\\nUnsqueezed Tensor:\")\n",
        "print(unsqueezed_tensor)"
      ],
      "metadata": {
        "colab": {
          "base_uri": "https://localhost:8080/"
        },
        "id": "fKKzz0wl7bCO",
        "outputId": "d75001d3-78f5-4014-e649-96dbbeac28a2"
      },
      "execution_count": null,
      "outputs": [
        {
          "output_type": "stream",
          "name": "stdout",
          "text": [
            "\n",
            "Unsqueezed Tensor:\n",
            "tensor([[[1, 2, 3],\n",
            "         [4, 5, 6]]])\n"
          ]
        }
      ]
    },
    {
      "cell_type": "markdown",
      "source": [
        "# ***Q2***"
      ],
      "metadata": {
        "id": "30h_i-7j71OO"
      }
    },
    {
      "cell_type": "code",
      "source": [
        "tensor = torch.tensor([[[1, 2, 3],\n",
        "                       [4, 5, 6]],\n",
        "\n",
        "                      [[7, 8, 9],\n",
        "                       [10, 11, 12]]])\n",
        "\n",
        "# Original tensor shape: (2, 2, 3)\n",
        "print(\"Original Tensor:\")\n",
        "print(tensor)\n",
        "\n",
        "# Permute the dimensions (swap the first and last dimensions)\n",
        "permuted_tensor = tensor.permute(2, 1, 0)\n",
        "# New tensor shape: (3, 2, 2)\n",
        "print(\"\\nPermuted Tensor:\")\n",
        "print(permuted_tensor)"
      ],
      "metadata": {
        "colab": {
          "base_uri": "https://localhost:8080/"
        },
        "id": "O_bnHEjz74ee",
        "outputId": "03ef92b5-d78b-4112-c25f-6c1a5832bc60"
      },
      "execution_count": null,
      "outputs": [
        {
          "output_type": "stream",
          "name": "stdout",
          "text": [
            "Original Tensor:\n",
            "tensor([[[ 1,  2,  3],\n",
            "         [ 4,  5,  6]],\n",
            "\n",
            "        [[ 7,  8,  9],\n",
            "         [10, 11, 12]]])\n",
            "\n",
            "Permuted Tensor:\n",
            "tensor([[[ 1,  7],\n",
            "         [ 4, 10]],\n",
            "\n",
            "        [[ 2,  8],\n",
            "         [ 5, 11]],\n",
            "\n",
            "        [[ 3,  9],\n",
            "         [ 6, 12]]])\n"
          ]
        }
      ]
    },
    {
      "cell_type": "markdown",
      "source": [
        "# ***Q3***"
      ],
      "metadata": {
        "id": "imczQ0zJ8EDC"
      }
    },
    {
      "cell_type": "code",
      "source": [
        "tensor = torch.tensor([[1, 2, 3],\n",
        "                       [4, 5, 6],\n",
        "                       [7, 8, 9]])\n",
        "\n",
        "# Accessing individual elements\n",
        "element = tensor[1, 2]  # Row 1, Column 2 (zero-based indexing)\n",
        "print(\"Single Element:\")\n",
        "print(element)\n",
        "\n",
        "# Slicing along rows and columns\n",
        "row_slice = tensor[0, :]  # Row 0, all columns\n",
        "col_slice = tensor[:, 1]  # All rows, Column 1\n",
        "print(\"\\nRow Slice:\")\n",
        "print(row_slice)\n",
        "print(\"\\nColumn Slice:\")\n",
        "print(col_slice)\n",
        "\n",
        "# Accessing a sub-tensor\n",
        "sub_tensor = tensor[0:2, 1:3]  # Rows 0 to 1, Columns 1 to 2\n",
        "print(\"\\nSub-Tensor:\")\n",
        "print(sub_tensor)\n",
        "\n",
        "# Using boolean indexing\n",
        "bool_tensor = tensor > 5\n",
        "filtered_tensor = tensor[bool_tensor]\n",
        "print(\"\\nBoolean Indexing:\")\n",
        "print(bool_tensor)\n",
        "print(filtered_tensor)"
      ],
      "metadata": {
        "colab": {
          "base_uri": "https://localhost:8080/"
        },
        "id": "J_YHvNA58Fss",
        "outputId": "26a2c106-a120-4f51-ec4c-86bbd08bd011"
      },
      "execution_count": null,
      "outputs": [
        {
          "output_type": "stream",
          "name": "stdout",
          "text": [
            "Single Element:\n",
            "tensor(6)\n",
            "\n",
            "Row Slice:\n",
            "tensor([1, 2, 3])\n",
            "\n",
            "Column Slice:\n",
            "tensor([2, 5, 8])\n",
            "\n",
            "Sub-Tensor:\n",
            "tensor([[2, 3],\n",
            "        [5, 6]])\n",
            "\n",
            "Boolean Indexing:\n",
            "tensor([[False, False, False],\n",
            "        [False, False,  True],\n",
            "        [ True,  True,  True]])\n",
            "tensor([6, 7, 8, 9])\n"
          ]
        }
      ]
    },
    {
      "cell_type": "markdown",
      "source": [
        "# ***Q4***"
      ],
      "metadata": {
        "id": "8mkbqxj_8Rq3"
      }
    },
    {
      "cell_type": "code",
      "source": [
        "import numpy as np\n",
        "\n",
        "# Create a NumPy array\n",
        "numpy_array = np.array([[1, 2, 3],\n",
        "                       [4, 5, 6],\n",
        "                       [7, 8, 9]])\n",
        "\n",
        "# Convert NumPy array to a PyTorch tensor\n",
        "tensor_from_numpy = torch.tensor(numpy_array)\n",
        "# or using torch.from_numpy()\n",
        "# tensor_from_numpy = torch.from_numpy(numpy_array)\n",
        "\n",
        "print(\"NumPy Array:\")\n",
        "print(numpy_array)\n",
        "\n",
        "print(\"\\nTensor from NumPy:\")\n",
        "print(tensor_from_numpy)\n",
        "\n",
        "# Convert PyTorch tensor back to NumPy array\n",
        "numpy_array_back = tensor_from_numpy.numpy()\n",
        "\n",
        "print(\"\\nNumPy Array from Tensor:\")\n",
        "print(numpy_array_back)"
      ],
      "metadata": {
        "colab": {
          "base_uri": "https://localhost:8080/"
        },
        "id": "yN-sdHS88TL9",
        "outputId": "59312dbe-1d5f-4363-f13b-64c8a29d86cd"
      },
      "execution_count": null,
      "outputs": [
        {
          "output_type": "stream",
          "name": "stdout",
          "text": [
            "NumPy Array:\n",
            "[[1 2 3]\n",
            " [4 5 6]\n",
            " [7 8 9]]\n",
            "\n",
            "Tensor from NumPy:\n",
            "tensor([[1, 2, 3],\n",
            "        [4, 5, 6],\n",
            "        [7, 8, 9]])\n",
            "\n",
            "NumPy Array from Tensor:\n",
            "[[1 2 3]\n",
            " [4 5 6]\n",
            " [7 8 9]]\n"
          ]
        }
      ]
    },
    {
      "cell_type": "markdown",
      "source": [
        "# ***Q5***"
      ],
      "metadata": {
        "id": "xmpLvbWX9FZW"
      }
    },
    {
      "cell_type": "code",
      "source": [
        "tensor_7x7 = torch.rand(7, 7)\n",
        "print(\"Tensor of shape (7, 7):\")\n",
        "print(tensor_7x7)"
      ],
      "metadata": {
        "colab": {
          "base_uri": "https://localhost:8080/"
        },
        "id": "fu0aYmZU9Gtw",
        "outputId": "e9803af5-7b71-421a-ce5b-f0bf24004571"
      },
      "execution_count": null,
      "outputs": [
        {
          "output_type": "stream",
          "name": "stdout",
          "text": [
            "Tensor of shape (7, 7):\n",
            "tensor([[0.0831, 0.7872, 0.9447, 0.5242, 0.0629, 0.9500, 0.9045],\n",
            "        [0.2276, 0.5808, 0.1727, 0.7363, 0.6632, 0.2656, 0.6841],\n",
            "        [0.7749, 0.3350, 0.4347, 0.9749, 0.7178, 0.5184, 0.7945],\n",
            "        [0.7010, 0.9801, 0.4195, 0.8187, 0.3978, 0.5532, 0.0428],\n",
            "        [0.7353, 0.9744, 0.7713, 0.8660, 0.0777, 0.1504, 0.7922],\n",
            "        [0.9752, 0.7355, 0.7767, 0.8961, 0.4503, 0.8446, 0.1730],\n",
            "        [0.2193, 0.4530, 0.5191, 0.2629, 0.8086, 0.3218, 0.3369]])\n"
          ]
        }
      ]
    },
    {
      "cell_type": "markdown",
      "source": [
        "# ***Q6***"
      ],
      "metadata": {
        "id": "FrbJ5wfb9hlk"
      }
    },
    {
      "cell_type": "code",
      "source": [],
      "metadata": {
        "id": "lqWxSbFP9kz4"
      },
      "execution_count": null,
      "outputs": []
    },
    {
      "cell_type": "markdown",
      "source": [
        "# ***Q7***"
      ],
      "metadata": {
        "id": "cBZztHoi-IrA"
      }
    },
    {
      "cell_type": "code",
      "source": [
        "# Create random tensors on CPU\n",
        "tensor1 = torch.rand(2, 3)\n",
        "tensor2 = torch.rand(2, 3)\n",
        "\n",
        "# Check the device (should be 'cpu' by default)\n",
        "print(\"Tensor 1 Device:\", tensor1.device)\n",
        "print(\"Tensor 2 Device:\", tensor2.device)\n",
        "\n",
        "# Send tensors to GPU (assuming a GPU is available)\n",
        "device = torch.device(\"cuda\" if torch.cuda.is_available() else \"cpu\")\n",
        "tensor1 = tensor1.to(device)\n",
        "tensor2 = tensor2.to(device)\n",
        "\n",
        "# Check the device again (should be 'cuda' if GPU is available)\n",
        "print(\"Tensor 1 Device (after moving to GPU):\", tensor1.device)\n",
        "print(\"Tensor 2 Device (after moving to GPU):\", tensor2.device)"
      ],
      "metadata": {
        "colab": {
          "base_uri": "https://localhost:8080/"
        },
        "id": "4Y9Kh_hn-K14",
        "outputId": "2de4fd00-1dcc-414c-f3d2-fd2e96dc2f78"
      },
      "execution_count": null,
      "outputs": [
        {
          "output_type": "stream",
          "name": "stdout",
          "text": [
            "Tensor 1 Device: cpu\n",
            "Tensor 2 Device: cpu\n",
            "Tensor 1 Device (after moving to GPU): cpu\n",
            "Tensor 2 Device (after moving to GPU): cpu\n"
          ]
        }
      ]
    },
    {
      "cell_type": "markdown",
      "source": [
        "# ***Q8***"
      ],
      "metadata": {
        "id": "zRFsX0Zm-w7a"
      }
    },
    {
      "cell_type": "code",
      "source": [],
      "metadata": {
        "id": "53BvsIhJA7NM"
      },
      "execution_count": null,
      "outputs": []
    },
    {
      "cell_type": "markdown",
      "source": [
        "# ***Q9***"
      ],
      "metadata": {
        "id": "cjgVFqW1A7wI"
      }
    },
    {
      "cell_type": "code",
      "source": [
        "# Find the minimum and maximum values\n",
        "\n",
        "max_value_1 = torch.max(tensor1)\n",
        "max_value_2 = torch.max(tensor2)\n",
        "\n",
        "min_value_1 = torch.min(tensor1)\n",
        "min_value_2 = torch.min(tensor2)\n",
        "\n",
        "print(\"Tensor 1:\")\n",
        "print(tensor1)\n",
        "print(\"\\nMinimum Value:\", min_value_1.item())\n",
        "print(\"\\nMaximum Value:\", max_value_1.item())\n",
        "\n",
        "print(\"\\nTensor 2:\")\n",
        "print(tensor2)\n",
        "print(\"\\nMinimum Value:\", min_value_2.item())\n",
        "print(\"\\nMaximum Value:\", min_value_2.item())"
      ],
      "metadata": {
        "colab": {
          "base_uri": "https://localhost:8080/"
        },
        "id": "kic4zTO3-2Gp",
        "outputId": "f210eb7b-eae5-45c0-d625-bd8300666348"
      },
      "execution_count": null,
      "outputs": [
        {
          "output_type": "stream",
          "name": "stdout",
          "text": [
            "Tensor 1:\n",
            "tensor([[0.4581, 0.0811, 0.3775],\n",
            "        [0.1335, 0.2948, 0.6716]])\n",
            "\n",
            "Minimum Value: 0.08105307817459106\n",
            "\n",
            "Maximum Value: 0.6716102957725525\n",
            "\n",
            "Tensor 2:\n",
            "tensor([[0.7907, 0.1570, 0.1473],\n",
            "        [0.7525, 0.5946, 0.4888]])\n",
            "\n",
            "Minimum Value: 0.14726245403289795\n",
            "\n",
            "Maximum Value: 0.14726245403289795\n"
          ]
        }
      ]
    },
    {
      "cell_type": "markdown",
      "source": [
        "# ***Q10***"
      ],
      "metadata": {
        "id": "WvvINahqAMRI"
      }
    },
    {
      "cell_type": "code",
      "source": [
        "min_index_tensor1 = torch.argmin(tensor1)\n",
        "max_index_tensor1 = torch.argmax(tensor1)\n",
        "\n",
        "min_index_tensor2 = torch.argmin(tensor2)\n",
        "max_index_tensor2 = torch.argmax(tensor2)\n",
        "\n",
        "print(\"Tensor 1:\")\n",
        "print(tensor1)\n",
        "\n",
        "print(\"\\nIndex of Minimum Value in Tensor 1:\", min_index_tensor1)\n",
        "print(\"Index of Maximum Value in Tensor 1:\", max_index_tensor1)\n",
        "\n",
        "print(\"\\nTensor 2:\")\n",
        "print(tensor2)\n",
        "\n",
        "print(\"\\nIndex of Minimum Value in Tensor 2:\", min_index_tensor2)\n",
        "print(\"Index of Maximum Value in Tensor 2:\", max_index_tensor2)\n",
        "\n"
      ],
      "metadata": {
        "colab": {
          "base_uri": "https://localhost:8080/"
        },
        "id": "bnOOW27XAORz",
        "outputId": "82405b3e-6531-4140-8afc-5b895778dc13"
      },
      "execution_count": null,
      "outputs": [
        {
          "output_type": "stream",
          "name": "stdout",
          "text": [
            "Tensor 1:\n",
            "tensor([[0.4581, 0.0811, 0.3775],\n",
            "        [0.1335, 0.2948, 0.6716]])\n",
            "\n",
            "Index of Minimum Value in Tensor 1: tensor(1)\n",
            "Index of Maximum Value in Tensor 1: tensor(5)\n",
            "\n",
            "Tensor 2:\n",
            "tensor([[0.7907, 0.1570, 0.1473],\n",
            "        [0.7525, 0.5946, 0.4888]])\n",
            "\n",
            "Index of Minimum Value in Tensor 2: tensor(2)\n",
            "Index of Maximum Value in Tensor 2: tensor(0)\n"
          ]
        }
      ]
    },
    {
      "cell_type": "markdown",
      "source": [
        "# ***Q11***"
      ],
      "metadata": {
        "id": "2mqiW-7jC7ZB"
      }
    },
    {
      "cell_type": "code",
      "source": [
        "# Set the random seed for reproducibility\n",
        "torch.manual_seed(7)\n",
        "\n",
        "# Create a random tensor with shape (1, 1, 1, 10)\n",
        "tensor1 = torch.rand(1, 1, 1, 10)\n",
        "\n",
        "# Remove all dimensions except the last one\n",
        "tensor2 = tensor1.view(10)\n",
        "\n",
        "# Print the first tensor and its shape\n",
        "print(\"Tensor 1:\")\n",
        "print(tensor1)\n",
        "print(\"Shape of Tensor 1:\", tensor1.shape)\n",
        "\n",
        "# Print the second tensor and its shape\n",
        "print(\"\\nTensor 2:\")\n",
        "print(tensor2)\n",
        "print(\"Shape of Tensor 2:\", tensor2.shape)"
      ],
      "metadata": {
        "colab": {
          "base_uri": "https://localhost:8080/"
        },
        "id": "pM-NFjckC9DJ",
        "outputId": "abd72d3e-3c77-444d-89ab-aaba53e51882"
      },
      "execution_count": null,
      "outputs": [
        {
          "output_type": "stream",
          "name": "stdout",
          "text": [
            "Tensor 1:\n",
            "tensor([[[[0.5349, 0.1988, 0.6592, 0.6569, 0.2328, 0.4251, 0.2071, 0.6297,\n",
            "           0.3653, 0.8513]]]])\n",
            "Shape of Tensor 1: torch.Size([1, 1, 1, 10])\n",
            "\n",
            "Tensor 2:\n",
            "tensor([0.5349, 0.1988, 0.6592, 0.6569, 0.2328, 0.4251, 0.2071, 0.6297, 0.3653,\n",
            "        0.8513])\n",
            "Shape of Tensor 2: torch.Size([10])\n"
          ]
        }
      ]
    }
  ]
}