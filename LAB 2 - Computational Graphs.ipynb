{
 "cells": [
  {
   "cell_type": "markdown",
   "id": "68d6eec4-c15b-4350-b8a8-bbed6ef64f7d",
   "metadata": {},
   "source": [
    "Q1"
   ]
  },
  {
   "cell_type": "code",
   "execution_count": 15,
   "id": "03006339-6b0c-4a42-b6fa-55832c7b39ce",
   "metadata": {},
   "outputs": [
    {
     "name": "stdout",
     "output_type": "stream",
     "text": [
      "Gradient computed using backpropagation (dz/da): 34.0\n",
      "Analytical gradient (4 + 30a): 34.0\n"
     ]
    }
   ],
   "source": [
    "import torch\n",
    "from torch.autograd import Variable\n",
    "\n",
    "# Define variables with requires_grad=True to enable automatic differentiation\n",
    "a = Variable(torch.tensor(1.0), requires_grad=True)\n",
    "b = Variable(torch.tensor(1.0), requires_grad=True)\n",
    "\n",
    "# Define the expressions\n",
    "x = 2*a + 3*b\n",
    "y = 5*a**2 + 3*b**3\n",
    "z = 2*x + 3*y\n",
    "\n",
    "# Compute the gradient dz/da using backpropagation\n",
    "z.backward()\n",
    "\n",
    "# Extract the gradient dz/da\n",
    "gradient_da = a.grad\n",
    "\n",
    "# Analytical gradient\n",
    "analytical_gradient = 4 + 30*a.item()\n",
    "\n",
    "# Compare the results\n",
    "print(\"Gradient computed using backpropagation (dz/da):\", gradient_da.item())\n",
    "print(\"Analytical gradient (4 + 30a):\", analytical_gradient)"
   ]
  },
  {
   "cell_type": "markdown",
   "id": "c9012ebd-1647-4453-91ae-9a2b8f38660c",
   "metadata": {},
   "source": [
    "Q2"
   ]
  },
  {
   "cell_type": "code",
   "execution_count": 16,
   "id": "8236f80a-b6f4-4845-9172-c30fe8edbdd7",
   "metadata": {},
   "outputs": [
    {
     "name": "stdout",
     "output_type": "stream",
     "text": [
      "Gradient computed using backpropagation (dz/da): 1.0\n"
     ]
    }
   ],
   "source": [
    "w = Variable(torch.tensor(1.0), requires_grad = True)\n",
    "x = Variable(torch.tensor(1.0), requires_grad = True)\n",
    "b = Variable(torch.tensor(1.0), requires_grad = True)\n",
    "\n",
    "u = w*x\n",
    "v = u+b\n",
    "\n",
    "def Relu(c):\n",
    "    if c > 0:\n",
    "        return c\n",
    "    else:\n",
    "        return 0\n",
    "\n",
    "a = Relu(v)\n",
    "\n",
    "a.backward(retain_graph = True)\n",
    "gradient_dw = w.grad\n",
    "print(\"Gradient computed using backpropagation (dz/da):\", gradient_dw.item())"
   ]
  },
  {
   "cell_type": "markdown",
   "id": "5d4e4221-58e3-41b0-bf11-dcc307191752",
   "metadata": {},
   "source": [
    "Q3"
   ]
  },
  {
   "cell_type": "code",
   "execution_count": 17,
   "id": "8b0466dd-5c6f-4bc2-97e8-9afd43e3f9c0",
   "metadata": {},
   "outputs": [
    {
     "name": "stdout",
     "output_type": "stream",
     "text": [
      "Gradient computed using backpropagation (dz/da): 0.10499358177185059\n"
     ]
    }
   ],
   "source": [
    "import math\n",
    "k = 1 / (1 + math.e**(-v))\n",
    "w.grad = None\n",
    "k.backward(retain_graph = True)\n",
    "gradient_dw = w.grad\n",
    "print(\"Gradient computed using backpropagation (dz/da):\", gradient_dw.item())"
   ]
  },
  {
   "cell_type": "markdown",
   "id": "4fcc1781-d132-4059-8cdf-7f09c4d0496a",
   "metadata": {},
   "source": [
    "Q4"
   ]
  },
  {
   "cell_type": "code",
   "execution_count": 19,
   "id": "2ab6f9c3-cbee-4c00-ad37-07c108ab9158",
   "metadata": {},
   "outputs": [
    {
     "name": "stdout",
     "output_type": "stream",
     "text": [
      "Gradient computed using backpropagation (df/dx): -0.08584804087877274\n"
     ]
    }
   ],
   "source": [
    "x = Variable(torch.tensor(1.0), requires_grad = True)\n",
    "f = math.e**(-x**2 - 2*x - math.sin(x))\n",
    "f.backward(retain_graph = True)\n",
    "print(\"Gradient computed using backpropagation (df/dx):\", x.grad.item())"
   ]
  },
  {
   "cell_type": "code",
   "execution_count": 20,
   "id": "de94bb1d-c5d8-47d1-a607-a6ef0baaa020",
   "metadata": {},
   "outputs": [
    {
     "name": "stdout",
     "output_type": "stream",
     "text": [
      "Gradient computed using backpropagation (dy/dx): 61.0\n"
     ]
    }
   ],
   "source": [
    "x = Variable(torch.tensor(1.0), requires_grad = True)\n",
    "y = 8*x**4 + 3*x**3 + 7*x**2 + 6*x + 3\n",
    "y.backward(retain_graph = True)\n",
    "print(\"Gradient computed using backpropagation (dy/dx):\", x.grad.item())"
   ]
  },
  {
   "cell_type": "code",
   "execution_count": null,
   "id": "c6aa91fc-f3e3-42d0-8fba-8b2839020f99",
   "metadata": {},
   "outputs": [],
   "source": []
  }
 ],
 "metadata": {
  "kernelspec": {
   "display_name": "Python 3 (ipykernel)",
   "language": "python",
   "name": "python3"
  },
  "language_info": {
   "codemirror_mode": {
    "name": "ipython",
    "version": 3
   },
   "file_extension": ".py",
   "mimetype": "text/x-python",
   "name": "python",
   "nbconvert_exporter": "python",
   "pygments_lexer": "ipython3",
   "version": "3.11.7"
  }
 },
 "nbformat": 4,
 "nbformat_minor": 5
}
